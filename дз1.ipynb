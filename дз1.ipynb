{
 "cells": [
  {
   "cell_type": "code",
   "execution_count": 1,
   "id": "69c9657d",
   "metadata": {},
   "outputs": [
    {
     "name": "stdout",
     "output_type": "stream",
     "text": [
      "1011+110111=1000010\n"
     ]
    }
   ],
   "source": [
    "a=input()\n",
    "b=input()\n",
    "A=int(a,2)\n",
    "B=int(b,2)\n",
    "print(f\"{a}+{b}={bin(A+B)[2:]}\")\n",
    "#type(bin(A+B))"
   ]
  },
  {
   "cell_type": "code",
   "execution_count": 34,
   "id": "172795c7",
   "metadata": {},
   "outputs": [
    {
     "name": "stdout",
     "output_type": "stream",
     "text": [
      "9318947198\n",
      "ADDHPPVB\n"
     ]
    }
   ],
   "source": [
    "X=int(input())\n",
    "print(X)\n",
    "A=[]\n",
    "while X>0:\n",
    "    X=X-1\n",
    "    A.insert(0,(chr(ord('A') + X%26)))\n",
    "    X=X//26\n",
    "A=''.join(A)\n",
    "print(A)\n",
    "\n",
    "\n",
    "\n"
   ]
  },
  {
   "cell_type": "code",
   "execution_count": 91,
   "id": "3d96f4c4",
   "metadata": {},
   "outputs": [
    {
     "name": "stdout",
     "output_type": "stream",
     "text": [
      "8\n"
     ]
    }
   ],
   "source": [
    "'''left=11\n",
    "right=147486678\n",
    "a=left\n",
    "for item in range(left,right+1):\n",
    "    a=a&(item)\n",
    "print(a)'''\n",
    "\n",
    "left=10\n",
    "right=15\n",
    "d=0\n",
    "while left<right:\n",
    "    left=left>>1\n",
    "    right=right>>1\n",
    "    d+=1\n",
    "k=left<<d\n",
    "print(k)\n",
    "\n",
    "\n"
   ]
  }
 ],
 "metadata": {
  "kernelspec": {
   "display_name": "Python 3",
   "language": "python",
   "name": "python3"
  },
  "language_info": {
   "codemirror_mode": {
    "name": "ipython",
    "version": 3
   },
   "file_extension": ".py",
   "mimetype": "text/x-python",
   "name": "python",
   "nbconvert_exporter": "python",
   "pygments_lexer": "ipython3",
   "version": "3.13.2"
  }
 },
 "nbformat": 4,
 "nbformat_minor": 5
}
